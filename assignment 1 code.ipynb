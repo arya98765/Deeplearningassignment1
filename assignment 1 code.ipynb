{
 "cells": [
  {
   "cell_type": "code",
   "execution_count": 79,
   "id": "fd0d1a99",
   "metadata": {},
   "outputs": [],
   "source": [
    "import numpy as np\n",
    "import requests\n",
    "from sklearn.datasets import load_svmlight_file\n",
    "from io import BytesIO\n",
    "from sklearn.model_selection import train_test_split"
   ]
  },
  {
   "cell_type": "code",
   "execution_count": 80,
   "id": "696cc743",
   "metadata": {},
   "outputs": [],
   "source": [
    "\n",
    "dataset = 'https://www.csie.ntu.edu.tw/~cjlin/libsvmtools/datasets/binary/diabetes_scale'\n"
   ]
  },
  {
   "cell_type": "code",
   "execution_count": 81,
   "id": "b850464f",
   "metadata": {},
   "outputs": [],
   "source": [
    "\n",
    "x = requests.get(dataset)\n",
    "data = x.content\n",
    "\n",
    "X, Y = load_svmlight_file(BytesIO(data))\n",
    "X = X.toarray()\n"
   ]
  },
  {
   "cell_type": "code",
   "execution_count": 82,
   "id": "efcccaad",
   "metadata": {},
   "outputs": [
    {
     "data": {
      "text/plain": [
       "array([[-0.294118  ,  0.487437  ,  0.180328  , -0.292929  , -1.        ,\n",
       "         0.00149028, -0.53117   , -0.0333333 ],\n",
       "       [-0.882353  , -0.145729  ,  0.0819672 , -0.414141  , -1.        ,\n",
       "        -0.207153  , -0.766866  , -0.666667  ],\n",
       "       [-0.0588235 ,  0.839196  ,  0.0491803 , -1.        , -1.        ,\n",
       "        -0.305514  , -0.492741  , -0.633333  ],\n",
       "       [-0.882353  , -0.105528  ,  0.0819672 , -0.535354  , -0.777778  ,\n",
       "        -0.162444  , -0.923997  , -1.        ],\n",
       "       [-1.        ,  0.376884  , -0.344262  , -0.292929  , -0.602837  ,\n",
       "         0.28465   ,  0.887276  , -0.6       ]])"
      ]
     },
     "execution_count": 82,
     "metadata": {},
     "output_type": "execute_result"
    }
   ],
   "source": [
    "X[:5]"
   ]
  },
  {
   "cell_type": "code",
   "execution_count": 83,
   "id": "e5ecade8",
   "metadata": {},
   "outputs": [
    {
     "data": {
      "text/plain": [
       "array([-1.,  1., -1.,  1., -1.])"
      ]
     },
     "execution_count": 83,
     "metadata": {},
     "output_type": "execute_result"
    }
   ],
   "source": [
    "Y[:5]"
   ]
  },
  {
   "cell_type": "code",
   "execution_count": 84,
   "id": "2911fbbe",
   "metadata": {},
   "outputs": [],
   "source": [
    "\n",
    "def perceptron_train(X, Y, learning_rate, num_iterations):\n",
    "    new_X = np.c_[X, np.ones(X.shape[0])]  \n",
    "\n",
    "    w = np.zeros(new_X.shape[1])\n",
    "\n",
    "    for _ in range(num_iterations):\n",
    "        for i in range(new_X.shape[0]):\n",
    "            if Y[i] * np.dot(new_X[i], w) <= 0:\n",
    "                w += learning_rate * Y[i] * new_X[i]\n",
    "\n",
    "    return w\n",
    "\n",
    "def perceptron_predict(X, w):\n",
    "    new_X = np.c_[X, np.ones(X.shape[0])]  \n",
    "    predictions = np.sign(np.dot(new_X, w))\n",
    "    return predictions\n"
   ]
  },
  {
   "cell_type": "code",
   "execution_count": 85,
   "id": "6bd4e88d",
   "metadata": {},
   "outputs": [
    {
     "name": "stdout",
     "output_type": "stream",
     "text": [
      "Best Learning Rate: 0.001\n",
      "Best Number of Iterations: 125\n",
      "Final Accuracy: 78.57%\n"
     ]
    }
   ],
   "source": [
    "\n",
    "learning_rates = [0.001, 0.01, 0.1]\n",
    "num_iterations_list = [100, 125, 150, 175, 200, 225, 250, 275, 300]\n",
    "\n",
    "best_accuracy = 0.0\n",
    "best_lr = 0.0\n",
    "best_iterations = 0\n",
    "\n",
    "for lr in learning_rates:\n",
    "    for num_iterations in num_iterations_list:\n",
    "        final_weights = perceptron_train(X_train, Y_train, lr, num_iterations)\n",
    "\n",
    "        predictions = perceptron_predict(X_test, final_weights)\n",
    "\n",
    "        accuracy = np.mean(predictions == Y_test) * 100\n",
    "\n",
    "        if accuracy > best_accuracy:\n",
    "            best_accuracy = accuracy\n",
    "            best_lr = lr\n",
    "            best_iterations = num_iterations\n",
    "\n",
    "print(f\"Best Learning Rate: {best_lr}\")\n",
    "print(f\"Best Number of Iterations: {best_iterations}\")\n",
    "print(f\"Final Accuracy: {best_accuracy:.2f}%\")\n"
   ]
  },
  {
   "cell_type": "code",
   "execution_count": null,
   "id": "4a9ae48d",
   "metadata": {},
   "outputs": [],
   "source": []
  }
 ],
 "metadata": {
  "kernelspec": {
   "display_name": "Python 3 (ipykernel)",
   "language": "python",
   "name": "python3"
  },
  "language_info": {
   "codemirror_mode": {
    "name": "ipython",
    "version": 3
   },
   "file_extension": ".py",
   "mimetype": "text/x-python",
   "name": "python",
   "nbconvert_exporter": "python",
   "pygments_lexer": "ipython3",
   "version": "3.9.13"
  }
 },
 "nbformat": 4,
 "nbformat_minor": 5
}
